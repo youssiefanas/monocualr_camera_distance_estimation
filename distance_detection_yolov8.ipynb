{
  "cells": [
    {
      "cell_type": "code",
      "execution_count": null,
      "id": "bc07ecd7",
      "metadata": {
        "id": "bc07ecd7"
      },
      "outputs": [],
      "source": [
        "import torch\n",
        "from matplotlib import pyplot as plt\n",
        "import numpy as np\n",
        "import cv2\n",
        "from ultralytics import YOLO\n",
        "from ultralytics.yolo.v8.detect.predict import DetectionPredictor\n",
        "from ultralytics.yolo.utils.plotting import Annotator\n",
        "import os\n",
        "import supervision as sv"
      ]
    },
    {
      "cell_type": "code",
      "execution_count": null,
      "id": "913e316f",
      "metadata": {
        "id": "913e316f"
      },
      "outputs": [],
      "source": [
        "model = YOLO(\"best.pt\")"
      ]
    },
    {
      "cell_type": "code",
      "execution_count": null,
      "id": "b7c7b151",
      "metadata": {
        "id": "b7c7b151"
      },
      "outputs": [],
      "source": [
        "def calculate_distance(focal_length, object_width, pixel_width):\n",
        "    distance = (focal_length * object_width) / pixel_width\n",
        "    return distance\n",
        "\n",
        "def focal_length_finder (measured_distance, real_width, width_in_rf):\n",
        "    focal_length = (width_in_rf * measured_distance) / real_width\n",
        "\n",
        "    return focal_length"
      ]
    },
    {
      "cell_type": "code",
      "execution_count": null,
      "id": "ad4e7b49",
      "metadata": {
        "id": "ad4e7b49"
      },
      "outputs": [],
      "source": [
        "\n",
        "def main():\n",
        "    \n",
        "    # box_annotator = sv.BoxAnnotator(thickness=2, text_thickness=2, text_scale=1)\n",
        "    cap = cv2.VideoCapture(0)\n",
        "    while cap.isOpened():\n",
        "        ret, frame = cap.read()\n",
        "        results=model.predict(frame,show = True)\n",
        "\n",
        "        for r in results:\n",
        "            annotator = Annotator(frame)\n",
        "            boxes = r.boxes\n",
        "            for box in boxes:\n",
        "                b = box.xyxy[0]  # get box coordinates in (top, left, bottom, right) format\n",
        "                c = box.cls\n",
        "                w = box.xywh[0][2]\n",
        "                h = box.xywh[0][3]\n",
        "                \n",
        "                # fl = focal_length_finder(30,20,w)\n",
        "                # print(\"focal length = \",fl)\n",
        "\n",
        "                distance = calculate_distance(800, 20, w)\n",
        "                # print(\"distance = \",distance)\n",
        "                # convert the distance from tensor to float\n",
        "                \n",
        "\n",
        "\n",
        "                # #get the width and height of the box\n",
        "                # print(\"width = \", b[2] - b[0])\n",
        "                # print(\"height =\", b[3] - b[1])\n",
        "                # print(\"width = \", box.xywh[0][2])\n",
        "                # print(\"height = \", box.xywh[0][3])\n",
        "                # print(c) #class\n",
        "                # print(model.names[int(c)]) #class name\n",
        "                # print(box) #box object\n",
        "                # print(box.xyxy[0]) #box coordinates\n",
        "                # print(box.conf) #confidence\n",
        "\n",
        "                annotator.box_label(b, model.names[int(c)] + \" \" + str(distance.item()))\n",
        "#                 annotator.box_label(b, model.names[int(c)])\n",
        "\n",
        "        frame = annotator.result()  \n",
        "\n",
        "        cv2.imshow('YOLO', frame)\n",
        "        \n",
        "        if cv2.waitKey(10) & 0xFF == ord('q'):\n",
        "            break \n",
        "    cap.release()\n",
        "    cv2.destroyAllWindows()\n",
        "\n",
        "if __name__ == '__main__':\n",
        "    main()"
      ]
    },
    {
      "cell_type": "code",
      "execution_count": null,
      "id": "abbe9e78",
      "metadata": {
        "id": "abbe9e78"
      },
      "outputs": [],
      "source": []
    }
  ],
  "metadata": {
    "kernelspec": {
      "display_name": "Python 3 (ipykernel)",
      "language": "python",
      "name": "python3"
    },
    "language_info": {
      "codemirror_mode": {
        "name": "ipython",
        "version": 3
      },
      "file_extension": ".py",
      "mimetype": "text/x-python",
      "name": "python",
      "nbconvert_exporter": "python",
      "pygments_lexer": "ipython3",
      "version": "3.8.10"
    },
    "colab": {
      "provenance": []
    }
  },
  "nbformat": 4,
  "nbformat_minor": 5
}