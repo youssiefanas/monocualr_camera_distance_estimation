{
  "nbformat": 4,
  "nbformat_minor": 0,
  "metadata": {
    "colab": {
      "provenance": []
    },
    "kernelspec": {
      "name": "python3",
      "display_name": "Python 3"
    },
    "language_info": {
      "name": "python"
    },
    "accelerator": "GPU",
    "gpuClass": "standard"
  },
  "cells": [
    {
      "cell_type": "code",
      "execution_count": null,
      "metadata": {
        "id": "GjZEnl-6fHuo"
      },
      "outputs": [],
      "source": [
        "!unzip -q /content/drive/MyDrive/train_yl8.zip"
      ]
    },
    {
      "cell_type": "code",
      "source": [
        "%cd ultralytics \n",
        "!pip install -r requirements.txt"
      ],
      "metadata": {
        "id": "S_cAZfvAfvsE"
      },
      "execution_count": null,
      "outputs": []
    },
    {
      "cell_type": "code",
      "source": [
        "!pip install ultralytics"
      ],
      "metadata": {
        "id": "CSlV6mB5gDwp"
      },
      "execution_count": null,
      "outputs": []
    },
    {
      "cell_type": "code",
      "source": [
        "from ultralytics import YOLO\n",
        " \n",
        "# Load the model.\n",
        "model = YOLO('yolov8n.pt')"
      ],
      "metadata": {
        "id": "EtjeYGdjgGzh"
      },
      "execution_count": null,
      "outputs": []
    },
    {
      "cell_type": "code",
      "source": [
        "\n",
        "# Training.\n",
        "results = model.train(\n",
        "   data='custom.yaml',\n",
        "   imgsz=640,\n",
        "   epochs=150,\n",
        "   name='yolov8n_custom'\n",
        ")"
      ],
      "metadata": {
        "id": "ZPTms4VegO4F"
      },
      "execution_count": null,
      "outputs": []
    },
    {
      "cell_type": "code",
      "source": [
        "mdl = YOLO(\"/content/ultralytics/runs/detect/yolov8n_custom2/weights/best.pt\")"
      ],
      "metadata": {
        "id": "4JXhvl9pgTvP"
      },
      "execution_count": null,
      "outputs": []
    }
  ]
}